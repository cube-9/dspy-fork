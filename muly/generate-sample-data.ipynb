{
 "cells": [
  {
   "cell_type": "code",
   "execution_count": 1,
   "metadata": {},
   "outputs": [
    {
     "name": "stderr",
     "output_type": "stream",
     "text": [
      "c:\\final\\oss\\dspy-fork\\.venv\\Lib\\site-packages\\tqdm\\auto.py:21: TqdmWarning: IProgress not found. Please update jupyter and ipywidgets. See https://ipywidgets.readthedocs.io/en/stable/user_install.html\n",
      "  from .autonotebook import tqdm as notebook_tqdm\n"
     ]
    },
    {
     "name": "stdout",
     "output_type": "stream",
     "text": [
      "🌍 To view the Phoenix app in your browser, visit http://localhost:6006/\n",
      "📖 For more information on how to use Phoenix, check out https://docs.arize.com/phoenix\n"
     ]
    }
   ],
   "source": [
    "import dspy\n",
    "import phoenix as px\n",
    "from pydantic import BaseModel, Field\n",
    "\n",
    "turbo = dspy.OpenAI(model='gpt-3.5-turbo-instruct', max_tokens=250)\n",
    "dspy.settings.configure(lm=turbo)\n",
    "\n",
    "px.launch_app()\n",
    "\n",
    "from openinference.instrumentation.dspy import DSPyInstrumentor\n",
    "from opentelemetry import trace as trace_api\n",
    "from opentelemetry.exporter.otlp.proto.http.trace_exporter import OTLPSpanExporter\n",
    "from opentelemetry.sdk import trace as trace_sdk\n",
    "from opentelemetry.sdk.resources import Resource\n",
    "from opentelemetry.sdk.trace.export import SimpleSpanProcessor\n",
    "\n",
    "\n",
    "\n",
    "endpoint = \"http://127.0.0.1:6006/v1/traces\"\n",
    "resource = Resource(attributes={})\n",
    "tracer_provider = trace_sdk.TracerProvider(resource=resource)\n",
    "span_otlp_exporter = OTLPSpanExporter(endpoint=endpoint)\n",
    "tracer_provider.add_span_processor(SimpleSpanProcessor(span_exporter=span_otlp_exporter))\n",
    "trace_api.set_tracer_provider(tracer_provider=tracer_provider)\n",
    "DSPyInstrumentor().instrument()"
   ]
  },
  {
   "cell_type": "code",
   "execution_count": 2,
   "metadata": {},
   "outputs": [
    {
     "data": {
      "text/plain": [
       "Prediction(\n",
       "    rationale='produce the invoice_period12. We need to first consider the initial 60 days, where the client will receive a 50% discount. After that, the normal pricing will apply for the remaining months.',\n",
       "    invoice_period1='50% off the initial 60 days',\n",
       "    invoice_period2='50% off the initial 60 days',\n",
       "    invoice_period3='normal pricing',\n",
       "    invoice_period4='normal pricing',\n",
       "    invoice_period5='normal pricing',\n",
       "    invoice_period6='normal pricing',\n",
       "    invoice_period7='normal pricing',\n",
       "    invoice_period8='normal pricing',\n",
       "    invoice_period9='normal pricing',\n",
       "    invoice_period10='normal pricing',\n",
       "    invoice_period11='normal pricing',\n",
       "    invoice_period12='normal pricing'\n",
       ")"
      ]
     },
     "execution_count": 2,
     "metadata": {},
     "output_type": "execute_result"
    }
   ],
   "source": [
    "import json\n",
    "from utils import read_examples_from_json\n",
    "\n",
    "class SplitDealTerms(dspy.Signature):\n",
    "    \"split the deal_terms to the terms relevant for each month\"\n",
    "\n",
    "    deal_terms: str = dspy.InputField(desc=\"Deal terms to be split\")\n",
    "    invoice_period1: str = dspy.OutputField(desc=\"invoice period 1 terms\")\n",
    "    invoice_period2: str = dspy.OutputField(desc=\"invoice period 2 terms\")\n",
    "    invoice_period3: str = dspy.OutputField(desc=\"invoice period 3 terms\")\n",
    "    invoice_period4: str = dspy.OutputField(desc=\"invoice period 4 terms\")\n",
    "    invoice_period5: str = dspy.OutputField(desc=\"invoice period 5 terms\")\n",
    "    invoice_period6: str = dspy.OutputField(desc=\"invoice period 6 terms\")\n",
    "    invoice_period7: str = dspy.OutputField(desc=\"invoice period 7 terms\")\n",
    "    invoice_period8: str = dspy.OutputField(desc=\"invoice period 8 terms\")\n",
    "    invoice_period9: str = dspy.OutputField(desc=\"invoice period 9 terms\")\n",
    "    invoice_period10: str = dspy.OutputField(desc=\"invoice period 10 terms\")\n",
    "    invoice_period11: str = dspy.OutputField(desc=\"invoice period 11 terms\")\n",
    "    invoice_period12: str = dspy.OutputField(desc=\"invoice period 12 terms\")\n",
    "\n",
    "\n",
    "# Example usage:\n",
    "examples = read_examples_from_json(\"example-data-001.json\", [\"dealTerms\"])\n",
    "\n",
    "deal_terms = \"50% off the initial 60 days, normal pricing thereafter\"\n",
    "terms = dspy.ChainOfThought(SplitDealTerms)\n",
    "terms(deal_terms=deal_terms)\n",
    "\n"
   ]
  },
  {
   "cell_type": "code",
   "execution_count": 3,
   "metadata": {},
   "outputs": [
    {
     "name": "stdout",
     "output_type": "stream",
     "text": [
      "Prediction(\n",
      "    rationale='produce the priceChangeAmount. We need to first extract the discount percentage from the invoiceTerms, which is 10%. Then, we need to convert it to a decimal, which is 0.1. Finally, we need to multiply the decimal by the total price, which is the price before the discount. Since the invoiceTerms does not provide the total price, we will assume it is $100. Therefore, the priceChangeAmount is 0.1 * 100 = $10.',\n",
      "    invoiceLineDescription='10% discount month 3 of 3',\n",
      "    priceChangePercentage='10',\n",
      "    priceChangeAmount='10'\n",
      ")\n"
     ]
    }
   ],
   "source": [
    "from dspy.teleprompt import LabeledFewShot\n",
    "from utils import read_examples_from_json\n",
    "\n",
    "\n",
    "class GetInvoiceTerms(dspy.Signature):\n",
    "    invoiceTerms: str = dspy.InputField(desc=\"Invoice terms\")\n",
    "    invoiceLineDescription: str = dspy.OutputField(desc=\"Invoice line description\")\n",
    "    priceChangePercentage: str = dspy.OutputField(desc=\"Price change percentage, just number no % sign or anything else\")\n",
    "    priceChangeAmount: str = dspy.OutputField(desc=\"Price change amount, just number no $ sign or anything else\")\n",
    "\n",
    "class GetInvoiceTermsProgram(dspy.Module):\n",
    "    def __init__(self):\n",
    "        super().__init__()\n",
    "        self.prog = dspy.ChainOfThought(GetInvoiceTerms)\n",
    "    \n",
    "    def forward(self, invoiceTerms):\n",
    "        return self.prog(invoiceTerms=invoiceTerms)\n",
    "\n",
    "invoiceTerms = \"10% discount month 3 of 3\"\n",
    "uncompiled_GetInvoiceTermsProgram = GetInvoiceTermsProgram()\n",
    "# a1 = uncompiled_GetInvoiceTermsProgram(invoiceTerms)    \n",
    "# print(a1)\n",
    "\n",
    "examples = read_examples_from_json(\"example-data-002.json\", [\"invoiceTerms\"])\n",
    "\n",
    "labeled_fewshot_optimizer = LabeledFewShot(k=4)\n",
    "getInvoiceTermsCompiled = labeled_fewshot_optimizer.compile(student=uncompiled_GetInvoiceTermsProgram, trainset=examples)\n",
    "\n",
    "a2 = getInvoiceTermsCompiled.forward(invoiceTerms=invoiceTerms)\n",
    "print(a2)\n",
    "getInvoiceTermsCompiled.save(\"getInvoiceTermsCompiled\")\n",
    "\n",
    "\n"
   ]
  },
  {
   "cell_type": "code",
   "execution_count": null,
   "metadata": {},
   "outputs": [],
   "source": []
  }
 ],
 "metadata": {
  "kernelspec": {
   "display_name": ".venv",
   "language": "python",
   "name": "python3"
  },
  "language_info": {
   "codemirror_mode": {
    "name": "ipython",
    "version": 3
   },
   "file_extension": ".py",
   "mimetype": "text/x-python",
   "name": "python",
   "nbconvert_exporter": "python",
   "pygments_lexer": "ipython3",
   "version": "3.12.3"
  }
 },
 "nbformat": 4,
 "nbformat_minor": 2
}
